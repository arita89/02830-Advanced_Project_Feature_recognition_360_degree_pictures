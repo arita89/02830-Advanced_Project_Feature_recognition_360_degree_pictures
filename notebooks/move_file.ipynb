{
  "nbformat": 4,
  "nbformat_minor": 0,
  "metadata": {
    "colab": {
      "name": "move_file.ipynb",
      "provenance": []
    },
    "kernelspec": {
      "name": "python3",
      "display_name": "Python 3"
    }
  },
  "cells": [
    {
      "cell_type": "code",
      "metadata": {
        "id": "mE8kbdSG7-66"
      },
      "source": [
        "import shutil, os"
      ],
      "execution_count": 1,
      "outputs": []
    },
    {
      "cell_type": "markdown",
      "metadata": {
        "id": "CiHOWMJ2fS3L"
      },
      "source": [
        "## google drive mount"
      ]
    },
    {
      "cell_type": "code",
      "metadata": {
        "id": "t-luLmCFfUvC",
        "outputId": "bb82986b-ee45-4295-a509-82905bfc5894",
        "colab": {
          "base_uri": "https://localhost:8080/"
        }
      },
      "source": [
        "from google.colab import drive\n",
        "drive.mount('/content/drive')"
      ],
      "execution_count": 2,
      "outputs": [
        {
          "output_type": "stream",
          "text": [
            "Mounted at /content/drive\n"
          ],
          "name": "stdout"
        }
      ]
    },
    {
      "cell_type": "code",
      "metadata": {
        "id": "hPOHDCb2-eQZ",
        "outputId": "7b9ad720-5c78-4cc1-8d7f-7cd4da46c7db",
        "colab": {
          "base_uri": "https://localhost:8080/"
        }
      },
      "source": [
        "!ls"
      ],
      "execution_count": 11,
      "outputs": [
        {
          "output_type": "stream",
          "text": [
            "7fB4v.jpg  7fBmt.jpg  7fzc3.jpg  7fzv5.jpg  move_here\n",
            "7fB4v.xml  7fBmt.xml  7fzc3.xml  7fzv5.xml  move_there\n"
          ],
          "name": "stdout"
        }
      ]
    },
    {
      "cell_type": "code",
      "metadata": {
        "id": "wbv_QJZ5dXfP"
      },
      "source": [
        "#change work directory\n",
        "#import sys\n",
        "#sys.path.append('/content/drive/My Drive/')\n",
        "path = \"/content/drive/My Drive/\"\n",
        "#os.chdir (\"/content/drive/My Drive/data/\")\n",
        "os.chdir(\"/content/drive/My Drive/data/fire_extinguisher_all /\")\n",
        "subfolders = [\"move_here/\", \"move_there/\"]\n",
        "\n",
        "#subfolders = [\"train/\", \"test/\"]"
      ],
      "execution_count": 12,
      "outputs": []
    },
    {
      "cell_type": "code",
      "metadata": {
        "id": "GnzqyYlU_ncW"
      },
      "source": [
        "mydir = os.getcwd()"
      ],
      "execution_count": 13,
      "outputs": []
    },
    {
      "cell_type": "markdown",
      "metadata": {
        "id": "FZR4OhSdEuDQ"
      },
      "source": [
        "## check files in directory\n",
        "sort images and annotations"
      ]
    },
    {
      "cell_type": "code",
      "metadata": {
        "id": "ZgDlflx5-Bv3"
      },
      "source": [
        "all_annotations = []\n",
        "for file in os.listdir(mydir):\n",
        "    if file.endswith(\".xml\"):\n",
        "        all_annotations.append(os.path.join(mydir, file))\n",
        "\n",
        "all_annotations = sorted(all_annotations)"
      ],
      "execution_count": 27,
      "outputs": []
    },
    {
      "cell_type": "code",
      "metadata": {
        "id": "hSxLhE02-99b"
      },
      "source": [
        "all_images = []\n",
        "for file in os.listdir(mydir):\n",
        "    if file.endswith(\".jpg\"):\n",
        "        all_images.append(os.path.join(mydir, file))\n",
        "\n",
        "all_images = sorted(all_images)"
      ],
      "execution_count": 28,
      "outputs": []
    },
    {
      "cell_type": "code",
      "metadata": {
        "id": "U9ekvyaJDRsx",
        "outputId": "4ee6ccb5-e8b3-4114-8fe9-1cec70c198ed",
        "colab": {
          "base_uri": "https://localhost:8080/"
        }
      },
      "source": [
        "all_files = all_annotations + all_images\n",
        "all_files"
      ],
      "execution_count": 40,
      "outputs": [
        {
          "output_type": "execute_result",
          "data": {
            "text/plain": [
              "['/content/drive/My Drive/data/fire_extinguisher_all /7fB4v.xml',\n",
              " '/content/drive/My Drive/data/fire_extinguisher_all /7fBmt.xml',\n",
              " '/content/drive/My Drive/data/fire_extinguisher_all /7fzc3.xml',\n",
              " '/content/drive/My Drive/data/fire_extinguisher_all /7fzv5.xml',\n",
              " '/content/drive/My Drive/data/fire_extinguisher_all /7fB4v.jpg',\n",
              " '/content/drive/My Drive/data/fire_extinguisher_all /7fBmt.jpg',\n",
              " '/content/drive/My Drive/data/fire_extinguisher_all /7fzc3.jpg',\n",
              " '/content/drive/My Drive/data/fire_extinguisher_all /7fzv5.jpg']"
            ]
          },
          "metadata": {
            "tags": []
          },
          "execution_count": 40
        }
      ]
    },
    {
      "cell_type": "markdown",
      "metadata": {
        "id": "IJfxYaoFEgZQ"
      },
      "source": [
        "## check how many files are currently in the subfolders"
      ]
    },
    {
      "cell_type": "code",
      "metadata": {
        "id": "qq-RmXkj_AvN",
        "outputId": "6203897a-efc2-4d82-9648-9363cfbe939f",
        "colab": {
          "base_uri": "https://localhost:8080/"
        }
      },
      "source": [
        "mydict = dict()\n",
        "annotations = []\n",
        "for sub in subfolders:\n",
        "  this_sub = mydir +'/' + sub\n",
        "  allfiles = (os.listdir(this_sub))\n",
        "  n = len(allfiles)\n",
        "  mydict[sub] = allfiles\n",
        "  print (\"in subfolder %s there are %s files \" %(this_sub,n))"
      ],
      "execution_count": 14,
      "outputs": [
        {
          "output_type": "stream",
          "text": [
            "in subfolder /content/drive/My Drive/data/fire_extinguisher_all /move_here/ there are 0 files \n",
            "in subfolder /content/drive/My Drive/data/fire_extinguisher_all /move_there/ there are 0 files \n"
          ],
          "name": "stdout"
        }
      ]
    },
    {
      "cell_type": "markdown",
      "metadata": {
        "id": "swSAWr80E2k5"
      },
      "source": [
        "## divide in train and test"
      ]
    },
    {
      "cell_type": "code",
      "metadata": {
        "id": "dlmX4Dbk_R2G",
        "outputId": "394a8bbf-d938-4f9e-be71-7ee73213efaf",
        "colab": {
          "base_uri": "https://localhost:8080/"
        }
      },
      "source": [
        "N = len(all_images)\n",
        "train_N = round(0.70*N)\n",
        "test_N = N-train_N\n",
        "print (N, train_N, test_N)"
      ],
      "execution_count": 29,
      "outputs": [
        {
          "output_type": "stream",
          "text": [
            "4 3 1\n"
          ],
          "name": "stdout"
        }
      ]
    },
    {
      "cell_type": "markdown",
      "metadata": {
        "id": "iepGScjaE-JD"
      },
      "source": [
        "## random choice of indexes"
      ]
    },
    {
      "cell_type": "code",
      "metadata": {
        "id": "bMQczVEb_9qk",
        "outputId": "065ca927-f944-4ef5-ac61-2abee8abf08f",
        "colab": {
          "base_uri": "https://localhost:8080/"
        }
      },
      "source": [
        "list_indexes = list(range(N))\n",
        "list_indexes"
      ],
      "execution_count": 30,
      "outputs": [
        {
          "output_type": "execute_result",
          "data": {
            "text/plain": [
              "[0, 1, 2, 3]"
            ]
          },
          "metadata": {
            "tags": []
          },
          "execution_count": 30
        }
      ]
    },
    {
      "cell_type": "code",
      "metadata": {
        "id": "bssJ7edJAGyc",
        "outputId": "0e3e0131-b35a-492a-ba45-050fd2d64eeb",
        "colab": {
          "base_uri": "https://localhost:8080/"
        }
      },
      "source": [
        "import random\n",
        "sampling = random.sample(list_indexes, k=train_N)\n",
        "sampling"
      ],
      "execution_count": 32,
      "outputs": [
        {
          "output_type": "execute_result",
          "data": {
            "text/plain": [
              "[2, 3, 1]"
            ]
          },
          "metadata": {
            "tags": []
          },
          "execution_count": 32
        }
      ]
    },
    {
      "cell_type": "markdown",
      "metadata": {
        "id": "RBJQYGivFDZV"
      },
      "source": [
        "## sampling"
      ]
    },
    {
      "cell_type": "code",
      "metadata": {
        "id": "6mGk1AyaAZw4",
        "outputId": "1774baa7-108e-4eae-eed6-390b908e5703",
        "colab": {
          "base_uri": "https://localhost:8080/"
        }
      },
      "source": [
        "move_files = []\n",
        "for i in sampling:\n",
        "  this_im = all_images[i]\n",
        "  this_ann = all_annotations[i]\n",
        "  if this_im[:-4] == this_ann[:-4]: \n",
        "    move_files.append(this_im)\n",
        "    move_files.append(this_ann)\n",
        "  else:\n",
        "    print (\"error in the order of files!\")\n",
        "move_files"
      ],
      "execution_count": 35,
      "outputs": [
        {
          "output_type": "execute_result",
          "data": {
            "text/plain": [
              "['/content/drive/My Drive/data/fire_extinguisher_all /7fzc3.jpg',\n",
              " '/content/drive/My Drive/data/fire_extinguisher_all /7fzc3.xml',\n",
              " '/content/drive/My Drive/data/fire_extinguisher_all /7fzv5.jpg',\n",
              " '/content/drive/My Drive/data/fire_extinguisher_all /7fzv5.xml',\n",
              " '/content/drive/My Drive/data/fire_extinguisher_all /7fBmt.jpg',\n",
              " '/content/drive/My Drive/data/fire_extinguisher_all /7fBmt.xml']"
            ]
          },
          "metadata": {
            "tags": []
          },
          "execution_count": 35
        }
      ]
    },
    {
      "cell_type": "code",
      "metadata": {
        "id": "cPQrPvvvDAXo",
        "outputId": "ea4e41ac-b7c8-45ad-bc95-cbbd95a4ea2f",
        "colab": {
          "base_uri": "https://localhost:8080/"
        }
      },
      "source": [
        "remaining_files = [ x for x in all_files if not x in move_files]\n",
        "remaining_files"
      ],
      "execution_count": 41,
      "outputs": [
        {
          "output_type": "execute_result",
          "data": {
            "text/plain": [
              "['/content/drive/My Drive/data/fire_extinguisher_all /7fB4v.xml',\n",
              " '/content/drive/My Drive/data/fire_extinguisher_all /7fB4v.jpg']"
            ]
          },
          "metadata": {
            "tags": []
          },
          "execution_count": 41
        }
      ]
    },
    {
      "cell_type": "markdown",
      "metadata": {
        "id": "B9AUCTNbFHeC"
      },
      "source": [
        "## move into destination folders"
      ]
    },
    {
      "cell_type": "code",
      "metadata": {
        "id": "DFkMP3p8CTXJ"
      },
      "source": [
        "dest0 = mydir +'/' +subfolders[0]\n",
        "dest1 = mydir +'/' +subfolders[1]"
      ],
      "execution_count": 43,
      "outputs": []
    },
    {
      "cell_type": "code",
      "metadata": {
        "id": "zR4Cx8IK7651"
      },
      "source": [
        "#files = ['file1.txt', 'file2.txt', 'file3.txt']\n",
        "for f in move_files:\n",
        "    shutil.move(f, dest0)"
      ],
      "execution_count": 39,
      "outputs": []
    },
    {
      "cell_type": "code",
      "metadata": {
        "id": "5m9hNm8dC5Xq"
      },
      "source": [
        "for f in remaining_files:\n",
        "  shutil.move(f, dest1)\n"
      ],
      "execution_count": 44,
      "outputs": []
    },
    {
      "cell_type": "code",
      "metadata": {
        "id": "9oB5hoQ9ERBC"
      },
      "source": [
        ""
      ],
      "execution_count": null,
      "outputs": []
    }
  ]
}