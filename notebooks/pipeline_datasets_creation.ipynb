{
  "nbformat": 4,
  "nbformat_minor": 0,
  "metadata": {
    "colab": {
      "name": "pipeline_datasets_creation.ipynb",
      "provenance": [],
      "collapsed_sections": []
    },
    "kernelspec": {
      "name": "python3",
      "display_name": "Python 3"
    }
  },
  "cells": [
    {
      "cell_type": "code",
      "metadata": {
        "id": "nBkU30Vg0GSl"
      },
      "source": [
        "# function that takes 1 to 4 inputs and creates a different balanced datasets\n",
        "# DATA0.0 360 degree images from Google dataset\n",
        "# DATA0.1 360 degree images of our own\n",
        "\n",
        "# DATA0 360 degree images with fire extinguishers (this is what was in the validation folder)\n",
        "# DATA1 normal images from internet (oldouz labels )\n",
        "# DATA2 deformed images with data augmentation (ari labels)"
      ],
      "execution_count": 1,
      "outputs": []
    },
    {
      "cell_type": "markdown",
      "metadata": {
        "id": "GVlQ_Mzh14c0"
      },
      "source": [
        "# import"
      ]
    },
    {
      "cell_type": "code",
      "metadata": {
        "id": "6Jlo7Fh39mUy"
      },
      "source": [
        "import os\n",
        "# importing shutil module  \n",
        "import shutil\n",
        "import random"
      ],
      "execution_count": 1,
      "outputs": []
    },
    {
      "cell_type": "markdown",
      "metadata": {
        "id": "CiHOWMJ2fS3L"
      },
      "source": [
        "## google drive mount"
      ]
    },
    {
      "cell_type": "code",
      "metadata": {
        "id": "t-luLmCFfUvC",
        "outputId": "b6d46da9-3ccb-4bff-fa5c-a70660e4eb67",
        "colab": {
          "base_uri": "https://localhost:8080/"
        }
      },
      "source": [
        "from google.colab import drive\n",
        "drive.mount('/content/drive')"
      ],
      "execution_count": 2,
      "outputs": [
        {
          "output_type": "stream",
          "text": [
            "Drive already mounted at /content/drive; to attempt to forcibly remount, call drive.mount(\"/content/drive\", force_remount=True).\n"
          ],
          "name": "stdout"
        }
      ]
    },
    {
      "cell_type": "code",
      "metadata": {
        "id": "5xuTTb60IsYo",
        "outputId": "1af4bea5-f07c-40f4-9c4a-582b35781a26",
        "colab": {
          "base_uri": "https://localhost:8080/"
        }
      },
      "source": [
        "# change work directory and check on where you are \n",
        "!ls"
      ],
      "execution_count": 5,
      "outputs": [
        {
          "output_type": "stream",
          "text": [
            "DATA_0\tDATA_1\tDATA_2\n"
          ],
          "name": "stdout"
        }
      ]
    },
    {
      "cell_type": "markdown",
      "metadata": {
        "id": "7_slMV3X66ps"
      },
      "source": [
        "# directories"
      ]
    },
    {
      "cell_type": "code",
      "metadata": {
        "id": "wvzF2WhqIsYq"
      },
      "source": [
        "#change work directory\n",
        "os.chdir(\"/content/drive/My Drive/DATASET/\")"
      ],
      "execution_count": 4,
      "outputs": []
    },
    {
      "cell_type": "code",
      "metadata": {
        "id": "3ayrVmMAIsYt",
        "outputId": "f329b0bc-478b-45b7-b11c-6d8275af93cd",
        "colab": {
          "base_uri": "https://localhost:8080/",
          "height": 35
        }
      },
      "source": [
        "# var my directory\n",
        "mydir = os.getcwd()\n",
        "mydir"
      ],
      "execution_count": 6,
      "outputs": [
        {
          "output_type": "execute_result",
          "data": {
            "application/vnd.google.colaboratory.intrinsic+json": {
              "type": "string"
            },
            "text/plain": [
              "'/content/drive/My Drive/DATASET'"
            ]
          },
          "metadata": {
            "tags": []
          },
          "execution_count": 6
        }
      ]
    },
    {
      "cell_type": "code",
      "metadata": {
        "id": "3Xtlkl1IBaiC",
        "outputId": "30af0776-7f10-49b2-fceb-be1fc3c68359",
        "colab": {
          "base_uri": "https://localhost:8080/"
        }
      },
      "source": [
        "# store subfolders\n",
        "DATA = os.listdir(mydir)\n",
        "DATA = sorted(DATA)\n",
        "DATA"
      ],
      "execution_count": 7,
      "outputs": [
        {
          "output_type": "execute_result",
          "data": {
            "text/plain": [
              "['DATA_0', 'DATA_1', 'DATA_2']"
            ]
          },
          "metadata": {
            "tags": []
          },
          "execution_count": 7
        }
      ]
    },
    {
      "cell_type": "code",
      "metadata": {
        "id": "IANO2ixmPXVx"
      },
      "source": [
        "DEFORMATION = [\"Low\", \"None\", \"High\"]"
      ],
      "execution_count": 61,
      "outputs": []
    },
    {
      "cell_type": "code",
      "metadata": {
        "id": "XJkOe8-5OZhm"
      },
      "source": [
        "#taking the extension out\n",
        "\n",
        "def find_all_extension_infolder(destination):\n",
        "  SplitTypes=[]\n",
        "  for file in os.listdir(destination):\n",
        "      SplitTypes.append(file.split('.')[-1])\n",
        "  set_extensions = list(set(SplitTypes))\n",
        "  return (set_extensions)"
      ],
      "execution_count": 8,
      "outputs": []
    },
    {
      "cell_type": "code",
      "metadata": {
        "id": "YRBrp0CAOGTY",
        "outputId": "3a683e72-a554-4a9d-ee3d-3ecf10917510",
        "colab": {
          "base_uri": "https://localhost:8080/"
        }
      },
      "source": [
        "# checking extensions out \n",
        "DATA_SIZE = []\n",
        "for sub in DATA:\n",
        "  set_extensions = find_all_extension_infolder(sub)\n",
        "  print (set_extensions)"
      ],
      "execution_count": 9,
      "outputs": [
        {
          "output_type": "stream",
          "text": [
            "['jpg', 'xml']\n",
            "['jpg', 'xml']\n",
            "['jpg', 'xml']\n"
          ],
          "name": "stdout"
        }
      ]
    },
    {
      "cell_type": "code",
      "metadata": {
        "id": "g7D-r9itBSyW"
      },
      "source": [
        "# count the number of elements in each subfolder\n",
        "# rememeber images and annotations are together so the number should be even \n",
        "def get_images_annotation_in_folders(DATA):\n",
        "  \"\"\"\n",
        "  DATA is a vector of sub folders\n",
        "  DATA_SIZE, data_dict = get_images_annotation_in_folders(DATA)\n",
        "  \"\"\"\n",
        "  DATA_SIZE = []\n",
        "  data_dict =  dict()\n",
        "  for sub in DATA:\n",
        "    sub_dir =  (mydir + '/' +sub)\n",
        "    all_files = os.listdir(sub_dir)\n",
        "    DATA_SIZE.append(len(all_files))\n",
        "    annotations = [file for file in all_files if file.endswith(\".xml\")]\n",
        "    images = [file for file in all_files if file.endswith(\".jpg\")]\n",
        "    others = [file for file in all_files if not file in images ]\n",
        "    others = [file for file in others if not file in annotations ]\n",
        "    data_dict[sub] = (images, annotations)\n",
        "    check = \"\"\n",
        "    if len(annotations) != len(images):\n",
        "      check = \"<------------ shite\"\n",
        "    print (\"%s contains %s files: %s images and %s annotations ,else %s %s\" %(sub_dir , len(all_files), len(images), len(annotations),len(others),check))\n",
        "    if len(others) > 0:\n",
        "      print (others)\n",
        "  return DATA_SIZE, data_dict"
      ],
      "execution_count": 10,
      "outputs": []
    },
    {
      "cell_type": "code",
      "metadata": {
        "id": "8T0yUUk7cMW6",
        "outputId": "b2c81b73-103e-4d7b-e5ee-1bcd7327d1b8",
        "colab": {
          "base_uri": "https://localhost:8080/"
        }
      },
      "source": [
        "DATA_SIZE, data_dict = get_images_annotation_in_folders(DATA)"
      ],
      "execution_count": 11,
      "outputs": [
        {
          "output_type": "stream",
          "text": [
            "/content/drive/My Drive/DATASET/DATA_0 contains 230 files: 117 images and 113 annotations ,else 0 <------------ shite\n",
            "/content/drive/My Drive/DATASET/DATA_1 contains 1030 files: 517 images and 513 annotations ,else 0 <------------ shite\n",
            "/content/drive/My Drive/DATASET/DATA_2 contains 820 files: 411 images and 409 annotations ,else 0 <------------ shite\n"
          ],
          "name": "stdout"
        }
      ]
    },
    {
      "cell_type": "code",
      "metadata": {
        "id": "FZosrqR4KbtQ",
        "outputId": "ae05e8dd-6876-4fab-b5f7-ae0f5f2f13e5",
        "colab": {
          "base_uri": "https://localhost:8080/"
        }
      },
      "source": [
        "DATA_SIZE"
      ],
      "execution_count": 12,
      "outputs": [
        {
          "output_type": "execute_result",
          "data": {
            "text/plain": [
              "[230, 1030, 820]"
            ]
          },
          "metadata": {
            "tags": []
          },
          "execution_count": 12
        }
      ]
    },
    {
      "cell_type": "code",
      "metadata": {
        "id": "px0-RnxzYDDJ",
        "outputId": "19153da3-ca2c-4124-d77d-85f24e14b8f6",
        "colab": {
          "base_uri": "https://localhost:8080/"
        }
      },
      "source": [
        "# remove unmatching images / annotations\n",
        "# refresh the data_dict!\n",
        "images_to_delete = []\n",
        "annotations_to_delete = []\n",
        "for k in data_dict.keys():\n",
        "  print (\"---%s----\" %k)\n",
        "  images, annotations = data_dict[k] # refresh the data_dict!\n",
        "  print (len(images), len(annotations))\n",
        "  set_a = set([ x[:-4] for x in images])\n",
        "  set_b = set([ x[:-4] for x in annotations])\n",
        "  images_to_delete = set_a-set_b\n",
        "  annotations_to_delete = set_b-set_a\n",
        "  print (len(images_to_delete),len(annotations_to_delete))\n",
        "\n",
        "  for im in images_to_delete:\n",
        "      fullpath = mydir+'/'+ k +'/'+ im + \".jpg\"\n",
        "      print (fullpath)\n",
        "      os.remove(fullpath)\n",
        "\n",
        "  for annotation in annotations_to_delete:\n",
        "      fullpath = mydir+'/'+ k +'/'+ annotation + \".xml\"\n",
        "      print (fullpath)\n",
        "      os.remove(fullpath)"
      ],
      "execution_count": 13,
      "outputs": [
        {
          "output_type": "stream",
          "text": [
            "---DATA_0----\n",
            "117 113\n",
            "4 0\n",
            "/content/drive/My Drive/DATASET/DATA_0/GS__0058_1600878925657.jpg\n",
            "/content/drive/My Drive/DATASET/DATA_0/GS__0056_1600878925657.jpg\n",
            "/content/drive/My Drive/DATASET/DATA_0/GS__0057_1600878925657.jpg\n",
            "/content/drive/My Drive/DATASET/DATA_0/GS__0094_1600879147284(1).jpg\n",
            "---DATA_1----\n",
            "517 513\n",
            "5 1\n",
            "/content/drive/My Drive/DATASET/DATA_1/1-images.jpg\n",
            "/content/drive/My Drive/DATASET/DATA_1/2-images (2).jpg\n",
            "/content/drive/My Drive/DATASET/DATA_1/1-images (5) 2.jpg\n",
            "/content/drive/My Drive/DATASET/DATA_1/2-images 2.jpg\n",
            "/content/drive/My Drive/DATASET/DATA_1/1-images - 2020-10-05T130842.100.jpg\n",
            "/content/drive/My Drive/DATASET/DATA_1/1-images (145).xml\n",
            "---DATA_2----\n",
            "411 409\n",
            "2 0\n",
            "/content/drive/My Drive/DATASET/DATA_2/2020-10-05T130842.290-specific_def_4-size_600-zoom25.jpg\n",
            "/content/drive/My Drive/DATASET/DATA_2/2020-10-05T130842.290-up-specific_def_8-size_600-zoom25.jpg\n"
          ],
          "name": "stdout"
        }
      ]
    },
    {
      "cell_type": "code",
      "metadata": {
        "id": "4QSO2RhTcPL-",
        "outputId": "bcf01b12-0a0d-4619-fed8-b4371c79fe37",
        "colab": {
          "base_uri": "https://localhost:8080/"
        }
      },
      "source": [
        "# check on the cleaning \n",
        "DATA_SIZE, data_dict = get_images_annotation_in_folders(DATA)"
      ],
      "execution_count": 14,
      "outputs": [
        {
          "output_type": "stream",
          "text": [
            "/content/drive/My Drive/DATASET/DATA_0 contains 226 files: 113 images and 113 annotations ,else 0 \n",
            "/content/drive/My Drive/DATASET/DATA_1 contains 1024 files: 512 images and 512 annotations ,else 0 \n",
            "/content/drive/My Drive/DATASET/DATA_2 contains 818 files: 409 images and 409 annotations ,else 0 \n"
          ],
          "name": "stdout"
        }
      ]
    },
    {
      "cell_type": "code",
      "metadata": {
        "id": "o1kxWzllf6PG",
        "outputId": "c8a8948d-4e15-44a6-d87a-359519a56d5d",
        "colab": {
          "base_uri": "https://localhost:8080/"
        }
      },
      "source": [
        "# test!\n",
        "images, annotations = data_dict[\"DATA_2\"][0],data_dict[\"DATA_2\"][1]\n",
        "images, annotations = sorted(images), sorted(annotations)\n",
        "print (images[2], annotations[2])"
      ],
      "execution_count": 15,
      "outputs": [
        {
          "output_type": "stream",
          "text": [
            "2020-10-05T130842.160-low-zoom25.jpg 2020-10-05T130842.160-low-zoom25.xml\n"
          ],
          "name": "stdout"
        }
      ]
    },
    {
      "cell_type": "markdown",
      "metadata": {
        "id": "HEJA8NbRKlYw"
      },
      "source": [
        "# dataset parameters\n",
        "\n",
        "\n"
      ]
    },
    {
      "cell_type": "code",
      "metadata": {
        "id": "9B14lC7-AMYv"
      },
      "source": [
        "# set % of images in dataset to go for training\n",
        "P = [80,80,80]# percentage of images\n",
        "\n",
        "# number of images from each dataset\n",
        "N = [p*DATA_SIZE[i]/200 for i,p in enumerate(P)]\n",
        "#or set directly the number of files\n",
        "#N = [100,200,100]\n",
        "\n",
        "if (len(N) or len(P)) != len (DATA):\n",
        "  print (\" probabilities and number must be as many as the datasets considered\")"
      ],
      "execution_count": 123,
      "outputs": []
    },
    {
      "cell_type": "code",
      "metadata": {
        "id": "1v75I8nM7hAk",
        "outputId": "a2c7158f-ab53-402a-cbe9-5e65b50de259",
        "colab": {
          "base_uri": "https://localhost:8080/"
        }
      },
      "source": [
        "# name the dataset\n",
        "degree360,notdeformed, deformed = int(N[0]),int(N[1]),int(N[2])\n",
        "sum_N = int(sum (N))\n",
        "dataset_name = \"dataset_%s-degree360_%s-notdeformed_%s-deformed_%s\" %(sum_N,\n",
        "                                                                     degree360,\n",
        "                                                                     notdeformed, \n",
        "                                                                     deformed\n",
        "                                                                     )\n",
        "print (dataset_name)"
      ],
      "execution_count": 124,
      "outputs": [
        {
          "output_type": "stream",
          "text": [
            "dataset_827-degree360_90-notdeformed_409-deformed_327\n"
          ],
          "name": "stdout"
        }
      ]
    },
    {
      "cell_type": "markdown",
      "metadata": {
        "id": "BBCbaeYPeiwj"
      },
      "source": [
        "# sample files to be moved"
      ]
    },
    {
      "cell_type": "code",
      "metadata": {
        "id": "ivPz-G-oeliK"
      },
      "source": [
        "def give_sampled_files(k,sampling,mydir):\n",
        "  \"\"\"\n",
        "  move_files, move_files_check,remaining_files = give_sampled_files(k,sampling)\n",
        "  k is the dictionary key (eg DATA0)\n",
        "  sampling are the indexes choosen to be sampled\n",
        "  \"\"\"\n",
        "  # to train \n",
        "  curr_dir = mydir + '/' +k\n",
        "  all_files = (os.listdir(curr_dir))\n",
        "  all_images, all_annotations = data_dict[k][0],data_dict[k][1]\n",
        "  all_images, all_annotations = sorted(all_images), sorted(all_annotations) #sorting is important!\n",
        "  move_files = []\n",
        "  move_files_check = []\n",
        "  for i in sampling:\n",
        "    this_im = all_images[i]\n",
        "    this_ann = all_annotations[i]\n",
        "    if this_im[:-4] == this_ann[:-4]: \n",
        "      move_files.append( curr_dir +'/' + this_im)\n",
        "      move_files.append ( curr_dir +'/' + this_ann)\n",
        "      move_files_check.append(this_im)\n",
        "      move_files_check.append(this_ann)\n",
        "    else:\n",
        "      print (\"error in the order of files!\")\n",
        "  remaining_files = [ (curr_dir +'/' + file) for file in all_files if not file in move_files_check]\n",
        "  print (\"collected %s files (TRAIN) to move\" %(len(move_files)/2))\n",
        "  print (\"remaining %s files (TEST) \" %(len(remaining_files)/2))\n",
        "  return move_files,move_files_check,remaining_files"
      ],
      "execution_count": 125,
      "outputs": []
    },
    {
      "cell_type": "code",
      "metadata": {
        "id": "Er4eoaKJh7L1",
        "outputId": "eee501da-c14d-4479-d149-777779a8e83b",
        "colab": {
          "base_uri": "https://localhost:8080/",
          "height": 35
        }
      },
      "source": [
        "mydir"
      ],
      "execution_count": 126,
      "outputs": [
        {
          "output_type": "execute_result",
          "data": {
            "application/vnd.google.colaboratory.intrinsic+json": {
              "type": "string"
            },
            "text/plain": [
              "'/content/drive/My Drive/DATASET'"
            ]
          },
          "metadata": {
            "tags": []
          },
          "execution_count": 126
        }
      ]
    },
    {
      "cell_type": "code",
      "metadata": {
        "id": "V4_v8Vhykje_",
        "outputId": "68fec968-d27c-4854-a17f-4a6e48076df5",
        "colab": {
          "base_uri": "https://localhost:8080/"
        }
      },
      "source": [
        "# create new dataset folder\n",
        "main_new = mydir +\"/\"+dataset_name\n",
        "try: \n",
        "  os.mkdir(main_new)\n",
        "  print (\"created dir: %s\" %main_new)\n",
        "except OSError as error: \n",
        "    print(error)  \n",
        "    \n",
        "# define subfolders\n",
        "subfolders_name = [\"/test/\", \"/train/\"]\n",
        "subfolders = []\n",
        "for sub in subfolders_name:\n",
        "  path = main_new + sub\n",
        "  subfolders.append(path)\n",
        "  try: \n",
        "    os.mkdir(path) \n",
        "    print (\"created sub_dir: %s\" %path)\n",
        "  except OSError as error: \n",
        "      print(error)  "
      ],
      "execution_count": 127,
      "outputs": [
        {
          "output_type": "stream",
          "text": [
            "created dir: /content/drive/My Drive/DATASET/dataset_827-degree360_90-notdeformed_409-deformed_327\n",
            "created sub_dir: /content/drive/My Drive/DATASET/dataset_827-degree360_90-notdeformed_409-deformed_327/test/\n",
            "created sub_dir: /content/drive/My Drive/DATASET/dataset_827-degree360_90-notdeformed_409-deformed_327/train/\n"
          ],
          "name": "stdout"
        }
      ]
    },
    {
      "cell_type": "code",
      "metadata": {
        "id": "zqimF9qLHWHW",
        "outputId": "5d59867d-1ebb-49b9-9a09-6c475de87c8f",
        "colab": {
          "base_uri": "https://localhost:8080/",
          "height": 35
        }
      },
      "source": [
        "train_folder, test_folder =  subfolders[1],subfolders[0]\n",
        "train_folder"
      ],
      "execution_count": 128,
      "outputs": [
        {
          "output_type": "execute_result",
          "data": {
            "application/vnd.google.colaboratory.intrinsic+json": {
              "type": "string"
            },
            "text/plain": [
              "'/content/drive/My Drive/DATASET/dataset_827-degree360_90-notdeformed_409-deformed_327/train/'"
            ]
          },
          "metadata": {
            "tags": []
          },
          "execution_count": 128
        }
      ]
    },
    {
      "cell_type": "code",
      "metadata": {
        "id": "PQayaLg7Pq8c",
        "outputId": "40810b65-5054-49a4-8cf3-975f8b35c9bb",
        "colab": {
          "base_uri": "https://localhost:8080/"
        }
      },
      "source": [
        "test_subdir = []\n",
        "for d in DEFORMATION:\n",
        "  test_sub = test_folder+d\n",
        "  test_subdir.append(test_sub)\n",
        "  try: \n",
        "    os.mkdir(test_sub) \n",
        "    print (\"created sub_dir: %s\" %test_sub)\n",
        "  except OSError as error: \n",
        "      print(error)  "
      ],
      "execution_count": 129,
      "outputs": [
        {
          "output_type": "stream",
          "text": [
            "created sub_dir: /content/drive/My Drive/DATASET/dataset_827-degree360_90-notdeformed_409-deformed_327/test/Low\n",
            "created sub_dir: /content/drive/My Drive/DATASET/dataset_827-degree360_90-notdeformed_409-deformed_327/test/None\n",
            "created sub_dir: /content/drive/My Drive/DATASET/dataset_827-degree360_90-notdeformed_409-deformed_327/test/High\n"
          ],
          "name": "stdout"
        }
      ]
    },
    {
      "cell_type": "code",
      "metadata": {
        "id": "sQegrz00Q7sn",
        "outputId": "1ecc9a3c-c0f5-4d94-e43e-6965c39bd96b",
        "colab": {
          "base_uri": "https://localhost:8080/",
          "height": 35
        }
      },
      "source": [
        "dataset_name\n",
        "# define subfolders\n",
        "#main_new = dataset_name\n",
        "#subfolders = [\"/test/\", \"/train/\"]"
      ],
      "execution_count": 130,
      "outputs": [
        {
          "output_type": "execute_result",
          "data": {
            "application/vnd.google.colaboratory.intrinsic+json": {
              "type": "string"
            },
            "text/plain": [
              "'dataset_827-degree360_90-notdeformed_409-deformed_327'"
            ]
          },
          "metadata": {
            "tags": []
          },
          "execution_count": 130
        }
      ]
    },
    {
      "cell_type": "code",
      "metadata": {
        "id": "iHe1Ea_0diR3",
        "outputId": "8fc148c6-921d-46a5-9316-07fcc1119cb5",
        "colab": {
          "base_uri": "https://localhost:8080/"
        }
      },
      "source": [
        "for i in range(len(DATA)):\n",
        "  k = DATA[i]\n",
        "  this_test_subdir = test_subdir[i]\n",
        "  \n",
        "  tot_size = DATA_SIZE[i]/2\n",
        "  train_N = int(N[i])\n",
        "\n",
        "  print (\"\")\n",
        "  print (DATA[i], tot_size)\n",
        "  print (this_test_subdir)\n",
        "\n",
        "  \n",
        "\n",
        "  list_indexes = list(range(train_N))\n",
        "  sampling = random.sample(list_indexes, k=train_N)\n",
        "  move_files, move_files_check,remaining_files = give_sampled_files(k,sampling,mydir)\n",
        "  if tot_size != len(move_files)/2 +len(remaining_files)/2:\n",
        "    print (\"error! lost some files? \")\n",
        "  else:\n",
        "    #current_files_train = (os.listdir(train_folder))\n",
        "    for file in move_files:\n",
        "      #if not file in current_files_train:\n",
        "      shutil.copy2(file, train_folder) # target filename is /dst/dir/file.ext\n",
        "    \n",
        "    #current_files_test = (os.listdir(test_folder))\n",
        "    for file in remaining_files:\n",
        "      #print (file)\n",
        "      shutil.copy2(file, this_test_subdir)\n",
        "      #if not file in current_files_test:\n",
        "      #if k == DATA[0]:\n",
        "        #shutil.copy2(file, test_subdir[0]) # target filename is /dst/dir/file.ext\n",
        "      #elif k == DATA[1]:\n",
        "        #shutil.copy2(file, test_subdir[1]) # target filename is /dst/dir/file.ext\n",
        "      #elif k == DATA[2]:\n",
        "        #shutil.copy2(file, test_subdir[2]) # target filename is /dst/dir/file.ext\n",
        "\n",
        "print (\"\")\n",
        "print (dataset_name)\n",
        "\n"
      ],
      "execution_count": 131,
      "outputs": [
        {
          "output_type": "stream",
          "text": [
            "\n",
            "DATA_0 113.0\n",
            "/content/drive/My Drive/DATASET/dataset_827-degree360_90-notdeformed_409-deformed_327/test/Low\n",
            "collected 90.0 files (TRAIN) to move\n",
            "remaining 23.0 files (TEST) \n",
            "\n",
            "DATA_1 512.0\n",
            "/content/drive/My Drive/DATASET/dataset_827-degree360_90-notdeformed_409-deformed_327/test/None\n",
            "collected 409.0 files (TRAIN) to move\n",
            "remaining 103.0 files (TEST) \n",
            "\n",
            "DATA_2 409.0\n",
            "/content/drive/My Drive/DATASET/dataset_827-degree360_90-notdeformed_409-deformed_327/test/High\n",
            "collected 327.0 files (TRAIN) to move\n",
            "remaining 82.0 files (TEST) \n",
            "\n",
            "dataset_827-degree360_90-notdeformed_409-deformed_327\n"
          ],
          "name": "stdout"
        }
      ]
    },
    {
      "cell_type": "markdown",
      "metadata": {
        "id": "rQ1XSUGHOLwk"
      },
      "source": [
        "# New Section"
      ]
    },
    {
      "cell_type": "code",
      "metadata": {
        "id": "BPuQUl7N2A1s"
      },
      "source": [
        "# define subfolders\n",
        "#subfolders = [\"/test/\", \"/train/\"]"
      ],
      "execution_count": 8,
      "outputs": []
    },
    {
      "cell_type": "code",
      "metadata": {
        "id": "1Ge-xeqi5RX5",
        "outputId": "3fb20dc0-a259-4c99-e7c0-4518f3675679",
        "colab": {
          "base_uri": "https://localhost:8080/"
        }
      },
      "source": [
        "# check naming \n",
        "for i in range(len(subfolders)):\n",
        "  print (mydir + subfolders[i])"
      ],
      "execution_count": 10,
      "outputs": [
        {
          "output_type": "stream",
          "text": [
            "/content/drive/My Drive/DATASET/test/\n",
            "/content/drive/My Drive/DATASET/train/\n"
          ],
          "name": "stdout"
        }
      ]
    },
    {
      "cell_type": "markdown",
      "metadata": {
        "id": "LOj8vuA6682C"
      },
      "source": [
        "# "
      ]
    },
    {
      "cell_type": "code",
      "metadata": {
        "id": "Dl-DN4Ja6q_w"
      },
      "source": [
        ""
      ],
      "execution_count": null,
      "outputs": []
    }
  ]
}