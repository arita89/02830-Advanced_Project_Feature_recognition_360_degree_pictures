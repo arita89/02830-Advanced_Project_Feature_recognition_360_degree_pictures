{
  "nbformat": 4,
  "nbformat_minor": 0,
  "metadata": {
    "colab": {
      "name": "check_files.ipynb",
      "provenance": []
    },
    "kernelspec": {
      "name": "python3",
      "display_name": "Python 3"
    }
  },
  "cells": [
    {
      "cell_type": "code",
      "metadata": {
        "id": "6Jlo7Fh39mUy"
      },
      "source": [
        "import os"
      ],
      "execution_count": null,
      "outputs": []
    },
    {
      "cell_type": "markdown",
      "metadata": {
        "id": "CiHOWMJ2fS3L"
      },
      "source": [
        "## google drive mount"
      ]
    },
    {
      "cell_type": "code",
      "metadata": {
        "id": "t-luLmCFfUvC",
        "outputId": "81d48056-e4d9-41e7-a888-7dd4398a87d2",
        "colab": {
          "base_uri": "https://localhost:8080/"
        }
      },
      "source": [
        "from google.colab import drive\n",
        "drive.mount('/content/drive')"
      ],
      "execution_count": null,
      "outputs": [
        {
          "output_type": "stream",
          "text": [
            "Mounted at /content/drive\n"
          ],
          "name": "stdout"
        }
      ]
    },
    {
      "cell_type": "code",
      "metadata": {
        "id": "hPOHDCb2-eQZ",
        "outputId": "eee0ab0d-aaa2-4b41-d5f3-3ec3de35a319",
        "colab": {
          "base_uri": "https://localhost:8080/"
        }
      },
      "source": [
        "!ls"
      ],
      "execution_count": null,
      "outputs": [
        {
          "output_type": "stream",
          "text": [
            "drive  sample_data\n"
          ],
          "name": "stdout"
        }
      ]
    },
    {
      "cell_type": "code",
      "metadata": {
        "id": "wbv_QJZ5dXfP"
      },
      "source": [
        "#change work directory\n",
        "#import sys\n",
        "#sys.path.append('/content/drive/My Drive/')\n",
        "path = \"/content/drive/My Drive/\"\n",
        "os.chdir(\"/content/drive/My Drive/data/fire extinguisher deformed/train/\")\n",
        "subfolders = [\"annotations/\", \"images/\"]"
      ],
      "execution_count": null,
      "outputs": []
    },
    {
      "cell_type": "code",
      "metadata": {
        "id": "GnzqyYlU_ncW"
      },
      "source": [
        "mydir = os.getcwd()"
      ],
      "execution_count": null,
      "outputs": []
    },
    {
      "cell_type": "code",
      "metadata": {
        "id": "qq-RmXkj_AvN",
        "outputId": "7762659d-91c9-444f-cbd6-69d8186ed835",
        "colab": {
          "base_uri": "https://localhost:8080/"
        }
      },
      "source": [
        "mydict = dict()\n",
        "annotations = []\n",
        "for sub in subfolders:\n",
        "  this_sub = mydir +'/' + sub\n",
        "  allfiles = (os.listdir(this_sub))\n",
        "  n = len(allfiles)\n",
        "  mydict[sub] = allfiles\n",
        "  print (\"in subfolder %s there are %s files \" %(this_sub,n))"
      ],
      "execution_count": null,
      "outputs": [
        {
          "output_type": "stream",
          "text": [
            "in subfolder /content/drive/My Drive/data/fire extinguisher deformed/train/annotations/ there are 521 files \n",
            "in subfolder /content/drive/My Drive/data/fire extinguisher deformed/train/images/ there are 521 files \n"
          ],
          "name": "stdout"
        }
      ]
    },
    {
      "cell_type": "code",
      "metadata": {
        "id": "EsXvMkOH_AuH"
      },
      "source": [
        "annotations = list(mydict[\"annotations/\"])\n",
        "annotations = [ x[:-4] for x in annotations]\n",
        "set_a = set(annotations)"
      ],
      "execution_count": null,
      "outputs": []
    },
    {
      "cell_type": "code",
      "metadata": {
        "id": "8w0mhM10_AsX"
      },
      "source": [
        "images = list(mydict[\"images/\"])\n",
        "images = [ x[:-4] for x in images]\n",
        "set_b = set(images)"
      ],
      "execution_count": null,
      "outputs": []
    },
    {
      "cell_type": "code",
      "metadata": {
        "id": "8hasGyiBBM6r"
      },
      "source": [
        "missing_annotations = [x for x in images if not x in set_a]"
      ],
      "execution_count": null,
      "outputs": []
    },
    {
      "cell_type": "code",
      "metadata": {
        "id": "LUR0fGd-BaOJ",
        "outputId": "278d7dd2-6fe1-4545-9089-424caff9b8f2",
        "colab": {
          "base_uri": "https://localhost:8080/"
        }
      },
      "source": [
        "missing_annotations"
      ],
      "execution_count": null,
      "outputs": [
        {
          "output_type": "execute_result",
          "data": {
            "text/plain": [
              "[]"
            ]
          },
          "metadata": {
            "tags": []
          },
          "execution_count": 10
        }
      ]
    },
    {
      "cell_type": "code",
      "metadata": {
        "id": "rCpX8ZyNY91l"
      },
      "source": [
        "missing_images = [x for x in annotations if not x in set_b]"
      ],
      "execution_count": null,
      "outputs": []
    },
    {
      "cell_type": "code",
      "metadata": {
        "id": "MNbq73RPY94D",
        "outputId": "a49c2876-1539-4e19-be57-cb2ba1f8f35b",
        "colab": {
          "base_uri": "https://localhost:8080/"
        }
      },
      "source": [
        "missing_images"
      ],
      "execution_count": null,
      "outputs": [
        {
          "output_type": "execute_result",
          "data": {
            "text/plain": [
              "[]"
            ]
          },
          "metadata": {
            "tags": []
          },
          "execution_count": 13
        }
      ]
    },
    {
      "cell_type": "code",
      "metadata": {
        "id": "3G4Z8KhCCDoR"
      },
      "source": [
        "filestart = mydir +\"/images/\"\n",
        "file_extension = \".jpg\""
      ],
      "execution_count": null,
      "outputs": []
    },
    {
      "cell_type": "code",
      "metadata": {
        "id": "P7TCPXqWCdM1",
        "outputId": "fd99ca15-e9a7-4207-b305-b9ea10da548d",
        "colab": {
          "base_uri": "https://localhost:8080/"
        }
      },
      "source": [
        "for file in missing_annotations:\n",
        "  fullpath = filestart + file + file_extension\n",
        "  print (fullpath)\n",
        "  os.remove(fullpath)"
      ],
      "execution_count": null,
      "outputs": [
        {
          "output_type": "stream",
          "text": [
            "/content/drive/My Drive/data/fire extinguisher deformed/train/images/2020-10-05T130842.290-specific_def_4-size_600-zoom25.jpg\n",
            "/content/drive/My Drive/data/fire extinguisher deformed/train/images/2020-10-05T130842.290-up-specific_def_8-size_600-zoom25.jpg\n",
            "/content/drive/My Drive/data/fire extinguisher deformed/train/images/3D-extinguisher_Z5-specific_def_2-size_1000.jpg\n",
            "/content/drive/My Drive/data/fire extinguisher deformed/train/images/3D-extinguisher_Z5-specific_def_5-size_1000.jpg\n"
          ],
          "name": "stdout"
        }
      ]
    },
    {
      "cell_type": "code",
      "metadata": {
        "id": "5YrTlwRNCCUy"
      },
      "source": [
        "os.remove(\"demofile.txt\")"
      ],
      "execution_count": null,
      "outputs": []
    },
    {
      "cell_type": "code",
      "metadata": {
        "id": "hn-Cbii2QDlu",
        "outputId": "95f6ed81-a093-464b-83a5-39ea18e2f961",
        "colab": {
          "base_uri": "https://localhost:8080/",
          "height": 51
        }
      },
      "source": [
        "files_alreadyinfolder = len(os.listdir(saving_to_folder))\n",
        "print (\"files already elaborated :%s \" %files_alreadyinfolder)\n",
        "files_tobeconverted =len(os.listdir(reading_from_folder))\n",
        "print (\"total files ready for conversion: %s\" %files_tobeconverted)\n",
        "#files_tobeconverted = 10"
      ],
      "execution_count": null,
      "outputs": [
        {
          "output_type": "stream",
          "text": [
            "files already elaborated :0 \n",
            "total files ready for conversion: 2\n"
          ],
          "name": "stdout"
        }
      ]
    },
    {
      "cell_type": "code",
      "metadata": {
        "id": "8qLzZTsP9uEe"
      },
      "source": [
        ""
      ],
      "execution_count": null,
      "outputs": []
    }
  ]
}