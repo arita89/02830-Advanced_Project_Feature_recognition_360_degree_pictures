{
  "nbformat": 4,
  "nbformat_minor": 0,
  "metadata": {
    "colab": {
      "name": "Convert_Json2Pascal.ipynb",
      "provenance": [],
      "collapsed_sections": []
    },
    "kernelspec": {
      "name": "python3",
      "display_name": "Python 3"
    }
  },
  "cells": [
    {
      "cell_type": "markdown",
      "metadata": {
        "id": "AyCVNW2GNRnu"
      },
      "source": [
        "converting the json annotated files from google dataset to Pascal VOC "
      ]
    },
    {
      "cell_type": "code",
      "metadata": {
        "id": "q4kDwiYrN42A",
        "outputId": "437313b7-514c-4a3a-afc4-6f73772252a0",
        "colab": {
          "base_uri": "https://localhost:8080/",
          "height": 323
        }
      },
      "source": [
        "!pip install json2xml"
      ],
      "execution_count": null,
      "outputs": [
        {
          "output_type": "stream",
          "text": [
            "Collecting json2xml\n",
            "  Downloading https://files.pythonhosted.org/packages/f3/ad/acb14f92aa19b44c293f2fc1f6ef50df9a8f185f67fc1bc3309f398fc6e3/json2xml-3.5.0-py2.py3-none-any.whl\n",
            "Requirement already satisfied: requests>=2.20.0 in /usr/local/lib/python3.6/dist-packages (from json2xml) (2.23.0)\n",
            "Collecting dicttoxml==1.7.4\n",
            "  Downloading https://files.pythonhosted.org/packages/74/36/534db111db9e7610a41641a1f6669a964aacaf51858f466de264cc8dcdd9/dicttoxml-1.7.4.tar.gz\n",
            "Collecting xmltodict==0.11.0\n",
            "  Downloading https://files.pythonhosted.org/packages/42/a9/7e99652c6bc619d19d58cdd8c47560730eb5825d43a7e25db2e1d776ceb7/xmltodict-0.11.0-py2.py3-none-any.whl\n",
            "Requirement already satisfied: idna<3,>=2.5 in /usr/local/lib/python3.6/dist-packages (from requests>=2.20.0->json2xml) (2.10)\n",
            "Requirement already satisfied: certifi>=2017.4.17 in /usr/local/lib/python3.6/dist-packages (from requests>=2.20.0->json2xml) (2020.6.20)\n",
            "Requirement already satisfied: urllib3!=1.25.0,!=1.25.1,<1.26,>=1.21.1 in /usr/local/lib/python3.6/dist-packages (from requests>=2.20.0->json2xml) (1.24.3)\n",
            "Requirement already satisfied: chardet<4,>=3.0.2 in /usr/local/lib/python3.6/dist-packages (from requests>=2.20.0->json2xml) (3.0.4)\n",
            "Building wheels for collected packages: dicttoxml\n",
            "  Building wheel for dicttoxml (setup.py) ... \u001b[?25l\u001b[?25hdone\n",
            "  Created wheel for dicttoxml: filename=dicttoxml-1.7.4-cp36-none-any.whl size=17453 sha256=10576d9db11dce4374a756e96c7efd39f77be92ba91def31fa106c1677dc4afa\n",
            "  Stored in directory: /root/.cache/pip/wheels/62/4f/a3/afd4a68f5add45a668c14efa53b64d5cffb2be6bacf993c151\n",
            "Successfully built dicttoxml\n",
            "Installing collected packages: dicttoxml, xmltodict, json2xml\n",
            "Successfully installed dicttoxml-1.7.4 json2xml-3.5.0 xmltodict-0.11.0\n"
          ],
          "name": "stdout"
        }
      ]
    },
    {
      "cell_type": "code",
      "metadata": {
        "id": "LRzA8tkgOdP_"
      },
      "source": [
        "import os\n",
        "import json \n",
        "from json2xml import json2xml\n",
        "from json2xml.utils import readfromurl, readfromstring, readfromjson"
      ],
      "execution_count": null,
      "outputs": []
    },
    {
      "cell_type": "markdown",
      "metadata": {
        "id": "7esmiP6lco9X"
      },
      "source": [
        "# mount Google drive"
      ]
    },
    {
      "cell_type": "code",
      "metadata": {
        "id": "t-luLmCFfUvC",
        "outputId": "00e4762c-ae7a-47db-ebe8-b902b6adaadc",
        "colab": {
          "base_uri": "https://localhost:8080/",
          "height": 34
        }
      },
      "source": [
        "from google.colab import drive\n",
        "drive.mount('/content/drive')"
      ],
      "execution_count": null,
      "outputs": [
        {
          "output_type": "stream",
          "text": [
            "Mounted at /content/drive\n"
          ],
          "name": "stdout"
        }
      ]
    },
    {
      "cell_type": "code",
      "metadata": {
        "id": "R1smWevnTSov",
        "outputId": "5966687d-2b20-4876-ba42-e85c5b61da25",
        "colab": {
          "base_uri": "https://localhost:8080/",
          "height": 34
        }
      },
      "source": [
        "cwd = os.getcwd()  # Get the current working directory (cwd)\n",
        "files = os.listdir(cwd)  # Get all the files in that directory\n",
        "print(\"Files in %r: %s\" % (cwd, files))"
      ],
      "execution_count": null,
      "outputs": [
        {
          "output_type": "stream",
          "text": [
            "Files in '/content': ['.config', 'drive', 'sample_data']\n"
          ],
          "name": "stdout"
        }
      ]
    },
    {
      "cell_type": "markdown",
      "metadata": {
        "id": "MnWbujI3KmW6"
      },
      "source": [
        "# set directory"
      ]
    },
    {
      "cell_type": "code",
      "metadata": {
        "id": "TxYCHtnTdy1Z"
      },
      "source": [
        "os.chdir('/content/drive/My Drive/02830-Project_Digital_Media_Engineering/GOOGLE_DATASET/annotations/')"
      ],
      "execution_count": null,
      "outputs": []
    },
    {
      "cell_type": "code",
      "metadata": {
        "id": "oi-WIOdRLImH",
        "outputId": "6316262e-27d3-44ec-b1cd-d3447fdf6d2a",
        "colab": {
          "base_uri": "https://localhost:8080/",
          "height": 51
        }
      },
      "source": [
        "cwd = os.getcwd()  # Get the current working directory (cwd)\n",
        "files = os.listdir(cwd)  # Get all the files in that directory\n",
        "print(\"%s Files in %r\" % (len(files), cwd))\n",
        "files\n",
        "#GS__0135_1600879147284.JPG\n",
        "#\"/GS__0143_1600879147284.JPG\"\n",
        "#GS__0139_1600879147284.JPG"
      ],
      "execution_count": null,
      "outputs": [
        {
          "output_type": "stream",
          "text": [
            "3 Files in '/content/drive/My Drive/02830-Project_Digital_Media_Engineering/GOOGLE_DATASET/annotations'\n"
          ],
          "name": "stdout"
        },
        {
          "output_type": "execute_result",
          "data": {
            "text/plain": [
              "['7fB0x.json', '7fB4v.json', '7fB4v.xml']"
            ]
          },
          "metadata": {
            "tags": []
          },
          "execution_count": 9
        }
      ]
    },
    {
      "cell_type": "code",
      "metadata": {
        "id": "kP7ArYfeScbu",
        "outputId": "f63b9264-a65a-461f-f827-81efb5860f83",
        "colab": {
          "base_uri": "https://localhost:8080/",
          "height": 34
        }
      },
      "source": [
        "json_files = [pos_json for pos_json in os.listdir(cwd) if pos_json.endswith('.json')]\n",
        "print(json_files)  # for me this prints ['foo.json']"
      ],
      "execution_count": null,
      "outputs": [
        {
          "output_type": "stream",
          "text": [
            "['7fB0x.json', '7fB4v.json']\n"
          ],
          "name": "stdout"
        }
      ]
    },
    {
      "cell_type": "code",
      "metadata": {
        "id": "GLx5H11YOtEx"
      },
      "source": [
        "json_file = \"7fB4v.json\"\n",
        "#data = json.loads('7fB0x.json')"
      ],
      "execution_count": null,
      "outputs": []
    },
    {
      "cell_type": "code",
      "metadata": {
        "id": "b9mODouSUC2z",
        "outputId": "3990a682-1fc2-41a8-dedd-9145749fe2a4",
        "colab": {
          "base_uri": "https://localhost:8080/",
          "height": 1000
        }
      },
      "source": [
        "# get the xml from an URL that return json\n",
        "#data = readfromurl(json_file)\n",
        "#print(json2xml.Json2xml(data).to_xml())\n",
        "\n",
        "# get the xml from a json string\n",
        "#data = readfromstring(json_file)\n",
        "#print(json2xml.Json2xml(data).to_xml())\n",
        "\n",
        "# get the data from an URL\n",
        "data = readfromjson(json_file)\n",
        "print(json2xml.Json2xml(data).to_xml())"
      ],
      "execution_count": null,
      "outputs": [
        {
          "output_type": "stream",
          "text": [
            "<?xml version=\"1.0\" ?>\n",
            "<all>\n",
            "\t<boxes type=\"list\">\n",
            "\t\t<item type=\"list\">\n",
            "\t\t\t<item type=\"int\">55</item>\n",
            "\t\t\t<item type=\"int\">400</item>\n",
            "\t\t\t<item type=\"float\">-2.9632418206516227</item>\n",
            "\t\t\t<item type=\"float\">0.26343563397289416</item>\n",
            "\t\t\t<item type=\"int\">8</item>\n",
            "\t\t\t<item type=\"int\">8</item>\n",
            "\t\t\t<item type=\"str\">light</item>\n",
            "\t\t</item>\n",
            "\t\t<item type=\"list\">\n",
            "\t\t\t<item type=\"int\">1895</item>\n",
            "\t\t\t<item type=\"int\">421</item>\n",
            "\t\t\t<item type=\"float\">3.058144098728814</item>\n",
            "\t\t\t<item type=\"float\">0.1947132946756173</item>\n",
            "\t\t\t<item type=\"int\">8</item>\n",
            "\t\t\t<item type=\"int\">8</item>\n",
            "\t\t\t<item type=\"str\">light</item>\n",
            "\t\t</item>\n",
            "\t\t<item type=\"list\">\n",
            "\t\t\t<item type=\"int\">491</item>\n",
            "\t\t\t<item type=\"int\">426</item>\n",
            "\t\t\t<item type=\"float\">-1.536435157146258</item>\n",
            "\t\t\t<item type=\"float\">0.17835083293817053</item>\n",
            "\t\t\t<item type=\"int\">8</item>\n",
            "\t\t\t<item type=\"int\">8</item>\n",
            "\t\t\t<item type=\"str\">light</item>\n",
            "\t\t</item>\n",
            "\t\t<item type=\"list\">\n",
            "\t\t\t<item type=\"int\">563</item>\n",
            "\t\t\t<item type=\"int\">432</item>\n",
            "\t\t\t<item type=\"float\">-1.3008157081270237</item>\n",
            "\t\t\t<item type=\"float\">0.15871587885323438</item>\n",
            "\t\t\t<item type=\"int\">8</item>\n",
            "\t\t\t<item type=\"int\">8</item>\n",
            "\t\t\t<item type=\"str\">light</item>\n",
            "\t\t</item>\n",
            "\t\t<item type=\"list\">\n",
            "\t\t\t<item type=\"int\">666</item>\n",
            "\t\t\t<item type=\"int\">450</item>\n",
            "\t\t\t<item type=\"float\">-0.9637489963356188</item>\n",
            "\t\t\t<item type=\"float\">0.0998110165984258</item>\n",
            "\t\t\t<item type=\"int\">8</item>\n",
            "\t\t\t<item type=\"int\">8</item>\n",
            "\t\t\t<item type=\"str\">light</item>\n",
            "\t\t</item>\n",
            "\t\t<item type=\"list\">\n",
            "\t\t\t<item type=\"int\">1080</item>\n",
            "\t\t\t<item type=\"int\">454</item>\n",
            "\t\t\t<item type=\"float\">0.39106283552497956</item>\n",
            "\t\t\t<item type=\"float\">0.0867210472084682</item>\n",
            "\t\t\t<item type=\"int\">8</item>\n",
            "\t\t\t<item type=\"int\">8</item>\n",
            "\t\t\t<item type=\"str\">light</item>\n",
            "\t\t</item>\n",
            "\t\t<item type=\"list\">\n",
            "\t\t\t<item type=\"int\">820</item>\n",
            "\t\t\t<item type=\"int\">462</item>\n",
            "\t\t\t<item type=\"float\">-0.4597851748222562</item>\n",
            "\t\t\t<item type=\"float\">0.06054110842855335</item>\n",
            "\t\t\t<item type=\"int\">4</item>\n",
            "\t\t\t<item type=\"int\">4</item>\n",
            "\t\t\t<item type=\"str\">light</item>\n",
            "\t\t</item>\n",
            "\t\t<item type=\"list\">\n",
            "\t\t\t<item type=\"int\">866</item>\n",
            "\t\t\t<item type=\"int\">458</item>\n",
            "\t\t\t<item type=\"float\">-0.3092505268377451</item>\n",
            "\t\t\t<item type=\"float\">0.07363107781851078</item>\n",
            "\t\t\t<item type=\"int\">4</item>\n",
            "\t\t\t<item type=\"int\">4</item>\n",
            "\t\t\t<item type=\"str\">light</item>\n",
            "\t\t</item>\n",
            "\t\t<item type=\"list\">\n",
            "\t\t\t<item type=\"int\">1217</item>\n",
            "\t\t\t<item type=\"int\">454</item>\n",
            "\t\t\t<item type=\"float\">0.8393942871310226</item>\n",
            "\t\t\t<item type=\"float\">0.0867210472084682</item>\n",
            "\t\t\t<item type=\"int\">8</item>\n",
            "\t\t\t<item type=\"int\">8</item>\n",
            "\t\t\t<item type=\"str\">light</item>\n",
            "\t\t</item>\n",
            "\t\t<item type=\"list\">\n",
            "\t\t\t<item type=\"int\">419</item>\n",
            "\t\t\t<item type=\"int\">400</item>\n",
            "\t\t\t<item type=\"float\">-1.7720546061654927</item>\n",
            "\t\t\t<item type=\"float\">0.26343563397289416</item>\n",
            "\t\t\t<item type=\"int\">12</item>\n",
            "\t\t\t<item type=\"int\">20</item>\n",
            "\t\t\t<item type=\"str\">window</item>\n",
            "\t\t</item>\n",
            "\t\t<item type=\"list\">\n",
            "\t\t\t<item type=\"int\">111</item>\n",
            "\t\t\t<item type=\"int\">479</item>\n",
            "\t\t\t<item type=\"float\">-2.779982249192218</item>\n",
            "\t\t\t<item type=\"float\">0.004908738521234121</item>\n",
            "\t\t\t<item type=\"int\">8</item>\n",
            "\t\t\t<item type=\"int\">12</item>\n",
            "\t\t\t<item type=\"str\">window</item>\n",
            "\t\t</item>\n",
            "\t\t<item type=\"list\">\n",
            "\t\t\t<item type=\"int\">37</item>\n",
            "\t\t\t<item type=\"int\">478</item>\n",
            "\t\t\t<item type=\"float\">-3.022146682906431</item>\n",
            "\t\t\t<item type=\"float\">0.008181230868723478</item>\n",
            "\t\t\t<item type=\"int\">8</item>\n",
            "\t\t\t<item type=\"int\">8</item>\n",
            "\t\t\t<item type=\"str\">window</item>\n",
            "\t\t</item>\n",
            "\t\t<item type=\"list\">\n",
            "\t\t\t<item type=\"int\">7</item>\n",
            "\t\t\t<item type=\"int\">478</item>\n",
            "\t\t\t<item type=\"float\">-3.1203214533311123</item>\n",
            "\t\t\t<item type=\"float\">0.008181230868723478</item>\n",
            "\t\t\t<item type=\"int\">8</item>\n",
            "\t\t\t<item type=\"int\">8</item>\n",
            "\t\t\t<item type=\"str\">window</item>\n",
            "\t\t</item>\n",
            "\t\t<item type=\"list\">\n",
            "\t\t\t<item type=\"int\">290</item>\n",
            "\t\t\t<item type=\"int\">568</item>\n",
            "\t\t\t<item type=\"float\">-2.1942061189916213</item>\n",
            "\t\t\t<item type=\"float\">-0.2863430804053198</item>\n",
            "\t\t\t<item type=\"int\">16</item>\n",
            "\t\t\t<item type=\"int\">56</item>\n",
            "\t\t\t<item type=\"str\">person</item>\n",
            "\t\t</item>\n",
            "\t\t<item type=\"list\">\n",
            "\t\t\t<item type=\"int\">409</item>\n",
            "\t\t\t<item type=\"int\">587</item>\n",
            "\t\t\t<item type=\"float\">-1.8047795296403863</item>\n",
            "\t\t\t<item type=\"float\">-0.34852043500761776</item>\n",
            "\t\t\t<item type=\"int\">16</item>\n",
            "\t\t\t<item type=\"int\">64</item>\n",
            "\t\t\t<item type=\"str\">person</item>\n",
            "\t\t</item>\n",
            "\t\t<item type=\"list\">\n",
            "\t\t\t<item type=\"int\">505</item>\n",
            "\t\t\t<item type=\"int\">537</item>\n",
            "\t\t\t<item type=\"float\">-1.490620264281407</item>\n",
            "\t\t\t<item type=\"float\">-0.18489581763314925</item>\n",
            "\t\t\t<item type=\"int\">8</item>\n",
            "\t\t\t<item type=\"int\">32</item>\n",
            "\t\t\t<item type=\"str\">person</item>\n",
            "\t\t</item>\n",
            "\t\t<item type=\"list\">\n",
            "\t\t\t<item type=\"int\">473</item>\n",
            "\t\t\t<item type=\"int\">502</item>\n",
            "\t\t\t<item type=\"float\">-1.5953400194010667</item>\n",
            "\t\t\t<item type=\"float\">-0.07035858547102125</item>\n",
            "\t\t\t<item type=\"int\">8</item>\n",
            "\t\t\t<item type=\"int\">20</item>\n",
            "\t\t\t<item type=\"str\">person</item>\n",
            "\t\t</item>\n",
            "\t\t<item type=\"list\">\n",
            "\t\t\t<item type=\"int\">668</item>\n",
            "\t\t\t<item type=\"int\">504</item>\n",
            "\t\t\t<item type=\"float\">-0.9572040116406401</item>\n",
            "\t\t\t<item type=\"float\">-0.0769035701660003</item>\n",
            "\t\t\t<item type=\"int\">8</item>\n",
            "\t\t\t<item type=\"int\">16</item>\n",
            "\t\t\t<item type=\"str\">person</item>\n",
            "\t\t</item>\n",
            "\t\t<item type=\"list\">\n",
            "\t\t\t<item type=\"int\">692</item>\n",
            "\t\t\t<item type=\"int\">494</item>\n",
            "\t\t\t<item type=\"float\">-0.8786641953008952</item>\n",
            "\t\t\t<item type=\"float\">-0.044178646691106396</item>\n",
            "\t\t\t<item type=\"int\">8</item>\n",
            "\t\t\t<item type=\"int\">16</item>\n",
            "\t\t\t<item type=\"str\">person</item>\n",
            "\t\t</item>\n",
            "\t\t<item type=\"list\">\n",
            "\t\t\t<item type=\"int\">744</item>\n",
            "\t\t\t<item type=\"int\">494</item>\n",
            "\t\t\t<item type=\"float\">-0.7084945932314479</item>\n",
            "\t\t\t<item type=\"float\">-0.044178646691106396</item>\n",
            "\t\t\t<item type=\"int\">4</item>\n",
            "\t\t\t<item type=\"int\">12</item>\n",
            "\t\t\t<item type=\"str\">person</item>\n",
            "\t\t</item>\n",
            "\t\t<item type=\"list\">\n",
            "\t\t\t<item type=\"int\">778</item>\n",
            "\t\t\t<item type=\"int\">491</item>\n",
            "\t\t\t<item type=\"float\">-0.5972298534168096</item>\n",
            "\t\t\t<item type=\"float\">-0.0343611696486385</item>\n",
            "\t\t\t<item type=\"int\">4</item>\n",
            "\t\t\t<item type=\"int\">12</item>\n",
            "\t\t\t<item type=\"str\">person</item>\n",
            "\t\t</item>\n",
            "\t\t<item type=\"list\">\n",
            "\t\t\t<item type=\"int\">798</item>\n",
            "\t\t\t<item type=\"int\">488</item>\n",
            "\t\t\t<item type=\"float\">-0.5317800064670224</item>\n",
            "\t\t\t<item type=\"float\">-0.02454369260617026</item>\n",
            "\t\t\t<item type=\"int\">4</item>\n",
            "\t\t\t<item type=\"int\">12</item>\n",
            "\t\t\t<item type=\"str\">person</item>\n",
            "\t\t</item>\n",
            "\t\t<item type=\"list\">\n",
            "\t\t\t<item type=\"int\">1575</item>\n",
            "\t\t\t<item type=\"int\">561</item>\n",
            "\t\t\t<item type=\"float\">2.0109465475322166</item>\n",
            "\t\t\t<item type=\"float\">-0.26343563397289416</item>\n",
            "\t\t\t<item type=\"int\">24</item>\n",
            "\t\t\t<item type=\"int\">56</item>\n",
            "\t\t\t<item type=\"str\">person</item>\n",
            "\t\t</item>\n",
            "\t\t<item type=\"list\">\n",
            "\t\t\t<item type=\"int\">1704</item>\n",
            "\t\t\t<item type=\"int\">608</item>\n",
            "\t\t\t<item type=\"float\">2.4330980603583447</item>\n",
            "\t\t\t<item type=\"float\">-0.4172427743048944</item>\n",
            "\t\t\t<item type=\"int\">24</item>\n",
            "\t\t\t<item type=\"int\">64</item>\n",
            "\t\t\t<item type=\"str\">person</item>\n",
            "\t\t</item>\n",
            "\t\t<item type=\"list\">\n",
            "\t\t\t<item type=\"int\">1667</item>\n",
            "\t\t\t<item type=\"int\">530</item>\n",
            "\t\t\t<item type=\"float\">2.312015843501238</item>\n",
            "\t\t\t<item type=\"float\">-0.16198837120072357</item>\n",
            "\t\t\t<item type=\"int\">8</item>\n",
            "\t\t\t<item type=\"int\">32</item>\n",
            "\t\t\t<item type=\"str\">person</item>\n",
            "\t\t</item>\n",
            "\t\t<item type=\"list\">\n",
            "\t\t\t<item type=\"int\">1745</item>\n",
            "\t\t\t<item type=\"int\">489</item>\n",
            "\t\t\t<item type=\"float\">2.5672702466054087</item>\n",
            "\t\t\t<item type=\"float\">-0.02781618495365979</item>\n",
            "\t\t\t<item type=\"int\">8</item>\n",
            "\t\t\t<item type=\"int\">16</item>\n",
            "\t\t\t<item type=\"str\">person</item>\n",
            "\t\t</item>\n",
            "\t\t<item type=\"list\">\n",
            "\t\t\t<item type=\"int\">1810</item>\n",
            "\t\t\t<item type=\"int\">506</item>\n",
            "\t\t\t<item type=\"float\">2.7799822491922184</item>\n",
            "\t\t\t<item type=\"float\">-0.08344855486097902</item>\n",
            "\t\t\t<item type=\"int\">8</item>\n",
            "\t\t\t<item type=\"int\">20</item>\n",
            "\t\t\t<item type=\"str\">person</item>\n",
            "\t\t</item>\n",
            "\t</boxes>\n",
            "\t<class type=\"list\">\n",
            "\t\t<item type=\"int\">12</item>\n",
            "\t\t<item type=\"int\">12</item>\n",
            "\t\t<item type=\"int\">12</item>\n",
            "\t\t<item type=\"int\">12</item>\n",
            "\t\t<item type=\"int\">12</item>\n",
            "\t\t<item type=\"int\">12</item>\n",
            "\t\t<item type=\"int\">12</item>\n",
            "\t\t<item type=\"int\">12</item>\n",
            "\t\t<item type=\"int\">12</item>\n",
            "\t\t<item type=\"int\">27</item>\n",
            "\t\t<item type=\"int\">27</item>\n",
            "\t\t<item type=\"int\">27</item>\n",
            "\t\t<item type=\"int\">27</item>\n",
            "\t\t<item type=\"int\">34</item>\n",
            "\t\t<item type=\"int\">34</item>\n",
            "\t\t<item type=\"int\">34</item>\n",
            "\t\t<item type=\"int\">34</item>\n",
            "\t\t<item type=\"int\">34</item>\n",
            "\t\t<item type=\"int\">34</item>\n",
            "\t\t<item type=\"int\">34</item>\n",
            "\t\t<item type=\"int\">34</item>\n",
            "\t\t<item type=\"int\">34</item>\n",
            "\t\t<item type=\"int\">34</item>\n",
            "\t\t<item type=\"int\">34</item>\n",
            "\t\t<item type=\"int\">34</item>\n",
            "\t\t<item type=\"int\">34</item>\n",
            "\t\t<item type=\"int\">34</item>\n",
            "\t</class>\n",
            "</all>\n",
            "\n"
          ],
          "name": "stdout"
        }
      ]
    },
    {
      "cell_type": "code",
      "metadata": {
        "id": "gPOZmVN1Uh5O"
      },
      "source": [
        ""
      ],
      "execution_count": null,
      "outputs": []
    }
  ]
}