{
  "nbformat": 4,
  "nbformat_minor": 0,
  "metadata": {
    "kernelspec": {
      "display_name": "base",
      "language": "python",
      "name": "base"
    },
    "language_info": {
      "codemirror_mode": {
        "name": "ipython",
        "version": 3
      },
      "file_extension": ".py",
      "mimetype": "text/x-python",
      "name": "python",
      "nbconvert_exporter": "python",
      "pygments_lexer": "ipython3",
      "version": "3.6.8"
    },
    "colab": {
      "name": "obj_detect.ipynb",
      "provenance": [],
      "toc_visible": true
    }
  },
  "cells": [
    {
      "cell_type": "code",
      "metadata": {
        "id": "otmTBleJ3Z4E"
      },
      "source": [
        "from imageai.Detection import ObjectDetection\n",
        "\n",
        "detector = ObjectDetection()"
      ],
      "execution_count": null,
      "outputs": []
    },
    {
      "cell_type": "code",
      "metadata": {
        "id": "eKEyzDwO3Z4J"
      },
      "source": [
        "# Download RetinaNet Model - resnet50_coco_best_v2.0.1.h5\n",
        "\n",
        "#detector.setModelTypeAsRetinaNet()"
      ],
      "execution_count": null,
      "outputs": []
    },
    {
      "cell_type": "code",
      "metadata": {
        "id": "dI84qCfk3Z4M"
      },
      "source": [
        "# Download YOLOv3 Model - yolo.h5\n",
        "\n",
        "#detector.setModelTypeAsYOLOv3()"
      ],
      "execution_count": null,
      "outputs": []
    },
    {
      "cell_type": "code",
      "metadata": {
        "id": "zkXte4Xo3Z4P"
      },
      "source": [
        "# Download TinyYOLOv3 Model - yolo-tiny.h5\n",
        "\n",
        "#detector.setModelTypeAsTinyYOLOv3()"
      ],
      "execution_count": null,
      "outputs": []
    },
    {
      "cell_type": "code",
      "metadata": {
        "id": "xftxTWXr3Z4R"
      },
      "source": [
        "#detector.setModelPath(\"resnet50_coco_best_v2.0.1.h5\")\n"
      ],
      "execution_count": null,
      "outputs": []
    },
    {
      "cell_type": "code",
      "metadata": {
        "id": "nCju243L3Z4U"
      },
      "source": [
        "#detector.loadModel()"
      ],
      "execution_count": null,
      "outputs": []
    },
    {
      "cell_type": "markdown",
      "metadata": {
        "id": "GYM0n-YW3Z4X"
      },
      "source": [
        "# RetinaNet Model"
      ]
    },
    {
      "cell_type": "code",
      "metadata": {
        "id": "ba7WaBYH3Z4Y",
        "outputId": "45317e98-c7fd-4192-8cd4-de75a72f3a50"
      },
      "source": [
        "from imageai.Detection import ObjectDetection\n",
        "import os\n",
        "\n",
        "execution_path = os.getcwd()\n",
        "\n",
        "detector = ObjectDetection()\n",
        "detector.setModelTypeAsRetinaNet()\n",
        "detector.setModelPath( os.path.join(execution_path , \"resnet50_coco_best_v2.0.1.h5\"))\n",
        "detector.loadModel()\n",
        "#custom_objects = detector.CustomObjects(person=True, car=False)\n",
        "#custom_objects = detector.CustomObjects(dog=True, car=False)\n",
        "custom_objects = detector.CustomObjects(chair=True, car=False)\n",
        "detections = detector.detectCustomObjectsFromImage(input_image=os.path.join(execution_path , \"image.png\"), output_image_path=os.path.join(execution_path , \"image_new.png\"), custom_objects=custom_objects, minimum_percentage_probability=65)\n",
        "\n",
        "\n",
        "for eachObject in detections:\n",
        "    #print(eachObject[\"name\"] + \" : \" + eachObject[\"percentage_probability\"] )\n",
        "    #print(\"--------------------------------\")\n",
        "    print(eachObject[\"percentage_probability\"] )"
      ],
      "execution_count": null,
      "outputs": [
        {
          "output_type": "stream",
          "text": [
            "67.45489239692688\n",
            "90.42496085166931\n",
            "84.701406955719\n",
            "75.09625554084778\n",
            "89.52609896659851\n",
            "69.38063502311707\n"
          ],
          "name": "stdout"
        }
      ]
    },
    {
      "cell_type": "code",
      "metadata": {
        "id": "ubX4LD613Z4b"
      },
      "source": [
        "from IPython.display import Image\n",
        "Image(\"image_new.png\")"
      ],
      "execution_count": null,
      "outputs": []
    },
    {
      "cell_type": "markdown",
      "metadata": {
        "id": "z6JoLUP03Z4e"
      },
      "source": [
        "# YOLOv3 Model "
      ]
    },
    {
      "cell_type": "code",
      "metadata": {
        "id": "tDOF29Dl3Z4e",
        "outputId": "f18e7707-e6d2-4aa9-e32d-d0434a024dcb"
      },
      "source": [
        "from imageai.Detection import ObjectDetection\n",
        "import os\n",
        "\n",
        "execution_path = os.getcwd()\n",
        "\n",
        "detector = ObjectDetection()\n",
        "detector.setModelTypeAsYOLOv3()\n",
        "detector.setModelPath( os.path.join(execution_path , \"yolo.h5\"))\n",
        "detector.loadModel()\n",
        "#custom_objects = detector.CustomObjects(person=True, car=False)\n",
        "#custom_objects = detector.CustomObjects(dog=True, car=False)\n",
        "custom_objects = detector.CustomObjects(chair=True, car=False)\n",
        "detections = detector.detectCustomObjectsFromImage(input_image=os.path.join(execution_path , \"image.png\"), output_image_path=os.path.join(execution_path , \"image_new.png\"), custom_objects=custom_objects, minimum_percentage_probability=65)\n",
        "\n",
        "\n",
        "for eachObject in detections:\n",
        "    #print(eachObject[\"name\"] + \" : \" + eachObject[\"percentage_probability\"] )\n",
        "    #print(\"--------------------------------\")\n",
        "    print(eachObject[\"percentage_probability\"] )"
      ],
      "execution_count": null,
      "outputs": [
        {
          "output_type": "stream",
          "text": [
            "87.67324686050415\n",
            "91.8423593044281\n"
          ],
          "name": "stdout"
        }
      ]
    },
    {
      "cell_type": "code",
      "metadata": {
        "id": "3P_kBiIQ3Z4h"
      },
      "source": [
        "from IPython.display import Image\n",
        "Image(\"image_new.png\")"
      ],
      "execution_count": null,
      "outputs": []
    },
    {
      "cell_type": "markdown",
      "metadata": {
        "id": "Sa_JxI083Z4k"
      },
      "source": [
        "# TinyYOLOv3 Model"
      ]
    },
    {
      "cell_type": "code",
      "metadata": {
        "id": "gmRpXQpF3Z4l"
      },
      "source": [
        "from imageai.Detection import ObjectDetection\n",
        "import os\n",
        "\n",
        "execution_path = os.getcwd()\n",
        "\n",
        "detector = ObjectDetection()\n",
        "detector.setModelTypeAsTinyYOLOv3()\n",
        "detector.setModelPath( os.path.join(execution_path , \"yolo-tiny.h5\"))\n",
        "detector.loadModel()\n",
        "#custom_objects = detector.CustomObjects(person=True, car=False)\n",
        "#custom_objects = detector.CustomObjects(dog=True, car=False)\n",
        "custom_objects = detector.CustomObjects(chair=True, car=False)\n",
        "detections = detector.detectCustomObjectsFromImage(input_image=os.path.join(execution_path , \"image.png\"), output_image_path=os.path.join(execution_path , \"image_new.png\"), custom_objects=custom_objects, minimum_percentage_probability=65)\n",
        "\n",
        "\n",
        "for eachObject in detections:\n",
        "    #print(eachObject[\"name\"] + \" : \" + eachObject[\"percentage_probability\"] )\n",
        "    #print(\"--------------------------------\")\n",
        "    print(eachObject[\"percentage_probability\"] )"
      ],
      "execution_count": null,
      "outputs": []
    },
    {
      "cell_type": "code",
      "metadata": {
        "id": "dQour3vf3Z4n"
      },
      "source": [
        "from IPython.display import Image\n",
        "Image(\"image_new.png\")"
      ],
      "execution_count": null,
      "outputs": []
    },
    {
      "cell_type": "code",
      "metadata": {
        "id": "0FIPZ5E23Z4p"
      },
      "source": [
        ""
      ],
      "execution_count": null,
      "outputs": []
    },
    {
      "cell_type": "code",
      "metadata": {
        "id": "gV3PpqS83Z4s"
      },
      "source": [
        ""
      ],
      "execution_count": null,
      "outputs": []
    },
    {
      "cell_type": "code",
      "metadata": {
        "id": "jfdanRXR3Z4u"
      },
      "source": [
        ""
      ],
      "execution_count": null,
      "outputs": []
    },
    {
      "cell_type": "code",
      "metadata": {
        "id": "md3ALhi43Z4w"
      },
      "source": [
        "#detector.setModelPath(\"yolo.h5\")"
      ],
      "execution_count": null,
      "outputs": []
    },
    {
      "cell_type": "code",
      "metadata": {
        "id": "jCToQgqQ3Z4z"
      },
      "source": [
        "#detector.loadModel()"
      ],
      "execution_count": null,
      "outputs": []
    },
    {
      "cell_type": "code",
      "metadata": {
        "id": "vgEl-AzW3Z41"
      },
      "source": [
        "#detections = detector.detectObjectsFromImage(input_image=\"image.jpg\", output_image_path=\"imagenew.jpg\", minimum_percentage_probability=30)"
      ],
      "execution_count": null,
      "outputs": []
    },
    {
      "cell_type": "code",
      "metadata": {
        "id": "X_CLCwbt3Z43"
      },
      "source": [
        "#custom = detector.CustomObjects(person=True, dog=True)\n",
        "\n",
        "#detections = detector.detectCustomObjectsFromImage( custom_objects=custom, input_image=os.path.join(execution_path , \"image3.jpg\"), output_image_path=os.path.join(execution_path , \"image3new-custom.jpg\"), minimum_percentage_probability=30)"
      ],
      "execution_count": null,
      "outputs": []
    },
    {
      "cell_type": "markdown",
      "metadata": {
        "id": "udlyj21c3Z45"
      },
      "source": [
        "from imageai.Detection import ObjectDetection\n",
        "import os\n",
        "\n",
        "execution_path = os.getcwd()\n",
        "\n",
        "detector = ObjectDetection()\n",
        "detector.setModelTypeAsYOLOv3()\n",
        "detector.setModelPath( os.path.join(execution_path , \"yolo.h5\"))\n",
        "detector.loadModel()\n",
        "detections = detector.detectObjectsFromImage(input_image=os.path.join(execution_path , \"image.jpg\"), output_image_path=os.path.join(execution_path , \"imagenew.jpg\"), minimum_percentage_probability=30)\n",
        "\n",
        "for eachObject in detections:\n",
        "    print(eachObject[\"name\"] , \" : \", eachObject[\"percentage_probability\"], \" : \", eachObject[\"box_points\"] )\n",
        "    print(\"--------------------------------\")"
      ]
    },
    {
      "cell_type": "code",
      "metadata": {
        "id": "eHEu1i233Z46"
      },
      "source": [
        "# Ref: https://imageai.readthedocs.io/en/latest/detection/"
      ],
      "execution_count": null,
      "outputs": []
    }
  ]
}